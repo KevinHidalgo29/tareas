{
 "cells": [
  {
   "cell_type": "code",
   "execution_count": 2,
   "metadata": {},
   "outputs": [
    {
     "name": "stdout",
     "output_type": "stream",
     "text": [
      "Tamaño de la cadena:  18\n"
     ]
    }
   ],
   "source": [
    "#1. Calcular el tamaño de la cadena \"Esta es una cadena\" sin usar la función len.\n",
    "cadena = \"Esta es una cadena\"\n",
    "tamaño = 0\n",
    "\n",
    "for _ in cadena:\n",
    "    tamaño += 1\n",
    "\n",
    "print(\"Tamaño de la cadena: \", tamaño)"
   ]
  },
  {
   "cell_type": "code",
   "execution_count": 3,
   "metadata": {},
   "outputs": [
    {
     "name": "stdout",
     "output_type": "stream",
     "text": [
      "Número de caracteres en la cadena: 13\n"
     ]
    }
   ],
   "source": [
    "#2. Contar el número de caracteres en la cadena trabajando.pe.\n",
    "cadena = \"trabajando.pe\"\n",
    "conta = 0\n",
    "\n",
    "for _ in cadena:\n",
    "    conta += 1\n",
    "\n",
    "print(\"Número de caracteres en la cadena: \", conta)\n"
   ]
  },
  {
   "cell_type": "code",
   "execution_count": 4,
   "metadata": {},
   "outputs": [
    {
     "name": "stdout",
     "output_type": "stream",
     "text": [
      "Lista sin duplicados: ['a', 'b', 'c']\n"
     ]
    }
   ],
   "source": [
    "#3. Eliminar duplicados de la lista ['a', 'b', 'c', 'a', 'c', 'c']\n",
    "lista = ['a', 'b', 'c', 'a', 'c', 'c']\n",
    "lista_sin_dupli = []\n",
    "\n",
    "for elemento in lista:\n",
    "    if elemento not in lista_sin_dupli:\n",
    "        lista_sin_dupli.append(elemento)\n",
    "\n",
    "print(\"Lista sin duplicados:\", lista_sin_dupli)\n"
   ]
  },
  {
   "cell_type": "code",
   "execution_count": 6,
   "metadata": {},
   "outputs": [
    {
     "name": "stdout",
     "output_type": "stream",
     "text": [
      "* \n",
      "* * \n",
      "* * * \n",
      "* * * * \n",
      "* * * * * \n",
      "* * * * \n",
      "* * * \n",
      "* * \n",
      "* \n"
     ]
    }
   ],
   "source": [
    "#4. Imprimir el patrón siguiente, usando bucles:\n",
    "n = 5  # Número de filas del patrón\n",
    "\n",
    "for i in range(1, n + 1):\n",
    "    for j in range(i):\n",
    "        print(\"*\", end=\" \")\n",
    "    print()\n",
    "\n",
    "for i in range(n - 1, 0, -1):\n",
    "    for j in range(i):\n",
    "        print(\"*\", end=\" \")\n",
    "    print()\n"
   ]
  },
  {
   "cell_type": "code",
   "execution_count": null,
   "metadata": {},
   "outputs": [],
   "source": [
    "#5. Escribir una función para determinar si un número es primo o no.\n",
    "def es_primo(num):\n",
    "    if num <= 1:\n",
    "        return False\n",
    "    for i in range(2, int(num ** 0.5) + 1):\n",
    "        if num % i == 0:\n",
    "            return False\n",
    "    return True\n",
    "\n",
    "# Ejemplo de uso:\n",
    "num = 29\n",
    "if es_primo(num):\n",
    "    print(num, \"es un número primo.\")\n",
    "else:\n",
    "    print(num, \"no es un número primo.\")\n"
   ]
  }
 ],
 "metadata": {
  "kernelspec": {
   "display_name": "venv",
   "language": "python",
   "name": "python3"
  },
  "language_info": {
   "codemirror_mode": {
    "name": "ipython",
    "version": 3
   },
   "file_extension": ".py",
   "mimetype": "text/x-python",
   "name": "python",
   "nbconvert_exporter": "python",
   "pygments_lexer": "ipython3",
   "version": "3.11.9"
  }
 },
 "nbformat": 4,
 "nbformat_minor": 2
}
